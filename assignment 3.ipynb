{
 "cells": [
  {
   "cell_type": "code",
   "execution_count": 64,
   "id": "5aa1a8f3",
   "metadata": {},
   "outputs": [
    {
     "name": "stdout",
     "output_type": "stream",
     "text": [
      "8\n",
      "5\n",
      "3\n",
      "2\n",
      "1\n",
      "1\n"
     ]
    }
   ],
   "source": [
    "#1. Implement Fibonacci series using recursion.\n",
    "\n",
    "def Fibonaci(x):\n",
    "    if x == 0 :\n",
    "        return 0\n",
    "    elif x == 1:\n",
    "        return 1\n",
    "    else:\n",
    "        return Fibonaci(x-1) + Fibonaci(x-2)\n",
    "print(Fibonaci(6))\n",
    "print(Fibonaci(5))\n",
    "print(Fibonaci(4))\n",
    "print(Fibonaci(3))\n",
    "print(Fibonaci(2))\n",
    "print(Fibonaci(1))"
   ]
  },
  {
   "cell_type": "code",
   "execution_count": 95,
   "id": "2d51cc9b",
   "metadata": {},
   "outputs": [
    {
     "name": "stdout",
     "output_type": "stream",
     "text": [
      "{'cars': 1, 'dogs': 1, 'cats': 2}\n"
     ]
    }
   ],
   "source": [
    "#2. Write a Python program to find all the unique words and count the\n",
    "#frequency of occurrence from a given list of strings.\n",
    "\n",
    "x = [\"cars\",\"dogs\",\"cats\", \"cats\"]\n",
    "d = {}\n",
    "for i in x:\n",
    "    if i in d:\n",
    "        d[i] +=1\n",
    "    else:\n",
    "        d[i] =1\n",
    "print(d)\n",
    "\n",
    "\n"
   ]
  },
  {
   "cell_type": "code",
   "execution_count": 89,
   "id": "59cd60fd",
   "metadata": {},
   "outputs": [
    {
     "name": "stdout",
     "output_type": "stream",
     "text": [
      "[(4, 8)]\n"
     ]
    }
   ],
   "source": [
    "#3. Write a Python program that finds all pairs of elements in a list whose sum is equal to a\n",
    "#given value.\n",
    "\n",
    "\n",
    "def pairs(numers,sum_numbers):\n",
    "    dict1 = {}\n",
    "    \n",
    "    lst= []\n",
    "    \n",
    "    for num in numbers:\n",
    "        dict2 = sum_numbers - num\n",
    "        if dict2 in dict1:\n",
    "            lst.append((dict2, num))\n",
    "        else:\n",
    "            dict1[num] = dict2\n",
    "    return lst \n",
    "\n",
    "\n",
    "numbers = [2,4,6,8]\n",
    "\n",
    "sum_numbers = 12\n",
    "\n",
    "print(pairs(numbers, sum_numbers)) "
   ]
  },
  {
   "cell_type": "code",
   "execution_count": 96,
   "id": "4d2c4853",
   "metadata": {},
   "outputs": [
    {
     "name": "stdout",
     "output_type": "stream",
     "text": [
      "(8, 9)\n"
     ]
    }
   ],
   "source": [
    "#4. Write a Python program to find the two numbers whose product is maximum among all\n",
    "#the pairs in a given list of numbers\n",
    "\n",
    "def max_prodcut(nums):\n",
    "    nums.sort()\n",
    "    return (nums[-2] , nums[-1])\n",
    "\n",
    "print(max_prodcut([1,2,3,4,5,6,7,8,9]))    \n"
   ]
  },
  {
   "cell_type": "code",
   "execution_count": 12,
   "id": "0ac37704",
   "metadata": {},
   "outputs": [
    {
     "name": "stdout",
     "output_type": "stream",
     "text": [
      "2 prime\n",
      "3 prime\n",
      "5 prime\n",
      "7 prime\n",
      "11 prime\n",
      "13 prime\n",
      "17 prime\n",
      "19 prime\n",
      "23 prime\n",
      "29 prime\n",
      "31 prime\n",
      "37 prime\n",
      "41 prime\n",
      "43 prime\n",
      "47 prime\n",
      "53 prime\n",
      "59 prime\n",
      "61 prime\n",
      "67 prime\n",
      "71 prime\n",
      "73 prime\n",
      "79 prime\n",
      "83 prime\n",
      "89 prime\n",
      "97 prime\n"
     ]
    }
   ],
   "source": [
    "#5. Write a Python function that takes a number as a parameter and checks whether the\n",
    "#number is prime or not.\n",
    "\n",
    "for i in range(1,100):\n",
    "    if  i <= 1:\n",
    "        pass\n",
    "    else:\n",
    "        for j in range(2,i):\n",
    "            if i % j == 0:\n",
    "                \n",
    "                break\n",
    "        else:\n",
    "            print(i,\"prime\")\n",
    "    \n",
    "        \n"
   ]
  },
  {
   "cell_type": "code",
   "execution_count": 13,
   "id": "51bc27cb",
   "metadata": {},
   "outputs": [
    {
     "name": "stdout",
     "output_type": "stream",
     "text": [
      "2 even\n",
      "4 even\n",
      "6 even\n",
      "8 even\n",
      "10 even\n",
      "12 even\n",
      "14 even\n",
      "16 even\n",
      "18 even\n",
      "20 even\n",
      "22 even\n",
      "24 even\n",
      "26 even\n",
      "28 even\n",
      "30 even\n",
      "32 even\n",
      "34 even\n",
      "36 even\n",
      "38 even\n",
      "40 even\n",
      "42 even\n",
      "44 even\n",
      "46 even\n",
      "48 even\n",
      "50 even\n",
      "52 even\n",
      "54 even\n",
      "56 even\n",
      "58 even\n",
      "60 even\n",
      "62 even\n",
      "64 even\n",
      "66 even\n",
      "68 even\n",
      "70 even\n",
      "72 even\n",
      "74 even\n",
      "76 even\n",
      "78 even\n",
      "80 even\n",
      "82 even\n",
      "84 even\n",
      "86 even\n",
      "88 even\n",
      "90 even\n",
      "92 even\n",
      "94 even\n",
      "96 even\n",
      "98 even\n"
     ]
    }
   ],
   "source": [
    "#6. Write a Python function to print the even numbers from a given list.\n",
    "for i in range(1,100):\n",
    "    if  i %2 == 0:\n",
    "        print(i,\"even\")\n",
    "        \n"
   ]
  },
  {
   "cell_type": "code",
   "execution_count": 30,
   "id": "519119b8",
   "metadata": {},
   "outputs": [
    {
     "name": "stdout",
     "output_type": "stream",
     "text": [
      "zaky mostafa\n"
     ]
    }
   ],
   "source": [
    "#7. Write a function that will take a given string and reverse the order of words.\n",
    "def rev(x):\n",
    "    return  ' ' .join(x.split( )[::-1])\n",
    "print(rev(\" mostafa zaky \"))"
   ]
  },
  {
   "cell_type": "code",
   "execution_count": 7,
   "id": "a14f4d7a",
   "metadata": {
    "scrolled": true
   },
   "outputs": [
    {
     "name": "stdout",
     "output_type": "stream",
     "text": [
      "True\n",
      "False\n"
     ]
    }
   ],
   "source": [
    "#8. Given an integer x, return true if x is a palindrome, and false otherwise.\n",
    "def pld(x):\n",
    "    y = str(x)\n",
    "    if y == y[::-1]:\n",
    "        print(True)\n",
    "    else:\n",
    "        print(False)\n",
    "    \n",
    "pld(404)\n",
    "pld(321)\n"
   ]
  },
  {
   "cell_type": "code",
   "execution_count": 8,
   "id": "3de45175",
   "metadata": {},
   "outputs": [
    {
     "name": "stdout",
     "output_type": "stream",
     "text": [
      "enter word lol\n",
      "True\n"
     ]
    }
   ],
   "source": [
    "#9. Write a Python function that checks whether a passed string is a palindrome or not.\n",
    "\n",
    "x = input(\"enter word \")\n",
    "if x == x[::-1]:\n",
    "    print(True)\n",
    "else:\n",
    "    print(False)\n"
   ]
  },
  {
   "cell_type": "code",
   "execution_count": 21,
   "id": "2106cf6a",
   "metadata": {},
   "outputs": [
    {
     "name": "stdout",
     "output_type": "stream",
     "text": [
      "[1, 4, 9, 16, 25, 36, 49, 64, 81, 100, 121, 144, 169, 196, 225, 256, 289, 324, 361, 400, 441, 484, 529, 576, 625, 676, 729, 784, 841, 900]\n"
     ]
    }
   ],
   "source": [
    "#10. Write a Python function to create and print a list where the values are the squares of numbers\n",
    "#between 1 and 30 (both included).\n",
    "\n",
    "def value():\n",
    "    lst = list()\n",
    "    for x in range(1,31):\n",
    "        lst.append(pow(x,2))\n",
    "    print(lst)\n",
    "value()\n"
   ]
  },
  {
   "cell_type": "code",
   "execution_count": 13,
   "id": "3ca828cc",
   "metadata": {},
   "outputs": [
    {
     "name": "stdout",
     "output_type": "stream",
     "text": [
      "[(1, 2, 3), (1, 3, 2), (2, 1, 3), (2, 3, 1), (3, 1, 2), (3, 2, 1)]\n"
     ]
    }
   ],
   "source": [
    "#11. Write a Python function to generate all permutations of a list.\n",
    "import itertools\n",
    "\n",
    "print(list(itertools.permutations([1,2,3])))"
   ]
  },
  {
   "cell_type": "code",
   "execution_count": 22,
   "id": "6f5187a2",
   "metadata": {},
   "outputs": [
    {
     "name": "stdout",
     "output_type": "stream",
     "text": [
      "hey!!\n"
     ]
    }
   ],
   "source": [
    "#12. Write a Python program to access a function inside a function.\n",
    "\n",
    "def out_func():\n",
    "    def iner_func():\n",
    "        print(\"hey!!\")\n",
    "        \n",
    "    iner_func()\n",
    "out_func()"
   ]
  },
  {
   "cell_type": "code",
   "execution_count": null,
   "id": "f52077d1",
   "metadata": {},
   "outputs": [],
   "source": []
  }
 ],
 "metadata": {
  "kernelspec": {
   "display_name": "Python 3 (ipykernel)",
   "language": "python",
   "name": "python3"
  },
  "language_info": {
   "codemirror_mode": {
    "name": "ipython",
    "version": 3
   },
   "file_extension": ".py",
   "mimetype": "text/x-python",
   "name": "python",
   "nbconvert_exporter": "python",
   "pygments_lexer": "ipython3",
   "version": "3.11.4"
  }
 },
 "nbformat": 4,
 "nbformat_minor": 5
}
